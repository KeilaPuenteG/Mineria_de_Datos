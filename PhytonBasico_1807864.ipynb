{
 "cells": [
  {
   "cell_type": "markdown",
   "metadata": {},
   "source": [
    "# Facultad de Ciencias Físico-Matemáticas "
   ]
  },
  {
   "cell_type": "markdown",
   "metadata": {},
   "source": [
    "#### Keila Rubí Puente González"
   ]
  },
  {
   "cell_type": "markdown",
   "metadata": {},
   "source": [
    "## Ejercicio 1\n",
    "Realiza una variable con tu matricula y realiza una secuencia de imprimir con tu nombre y tu matricula concatenados."
   ]
  },
  {
   "cell_type": "code",
   "execution_count": 1,
   "metadata": {},
   "outputs": [
    {
     "name": "stdout",
     "output_type": "stream",
     "text": [
      "Keila Rubí Puente González  1807864\n"
     ]
    }
   ],
   "source": [
    "mat= 1807864\n",
    "print(\"Keila Rubí Puente González \",mat)"
   ]
  },
  {
   "cell_type": "markdown",
   "metadata": {},
   "source": [
    "\n",
    "## Ejercicio 2:\n",
    "Pidiendo el input del usuario pide dos números y crea una pequeña calculadora con los operadores básicos de suma, resta, multiplicación, división, y exponente.\n"
   ]
  },
  {
   "cell_type": "code",
   "execution_count": 2,
   "metadata": {},
   "outputs": [
    {
     "name": "stdout",
     "output_type": "stream",
     "text": [
      "En la resta se sustraerá el segundo número del primero introducido.\n",
      "En la división el numerador será el primer número introducido, evite poner cero como segundo número.\n",
      "El exponente es el segundo número introducido.\n",
      "Introduce un número: 4\n",
      "Introduce otro número: 3\n",
      "Suma:  7\n",
      "Resta:  1\n",
      "Multiplicación:  12\n",
      "División:  1.3333333333333333\n",
      "Exponente:  64\n"
     ]
    }
   ],
   "source": [
    "print(\"En la resta se sustraerá el segundo número del primero introducido.\")\n",
    "print(\"En la división el numerador será el primer número introducido, evite poner cero como segundo número.\")\n",
    "print(\"El exponente es el segundo número introducido.\")\n",
    "\n",
    "n1 = int(input(\"Introduce un número: \" ))\n",
    "n2 = int(input(\"Introduce otro número: \"))\n",
    "\n",
    "s= n1+n2\n",
    "r= n1-n2\n",
    "m= n1*n2\n",
    "d= n1/n2\n",
    "e= n1**n2\n",
    "\n",
    "print (\"Suma: \", s)\n",
    "print (\"Resta: \", r)\n",
    "print (\"Multiplicación: \", m)\n",
    "print (\"División: \", d)\n",
    "print (\"Exponente: \", e)"
   ]
  },
  {
   "cell_type": "markdown",
   "metadata": {},
   "source": [
    "## Ejercicio 3\n",
    "Con loop while o for, realiza una lista de 10 numeros multiplos de 3, y después realiza una función de loop que sume todos los números dentro del arreglo."
   ]
  },
  {
   "cell_type": "code",
   "execution_count": 3,
   "metadata": {},
   "outputs": [
    {
     "name": "stdout",
     "output_type": "stream",
     "text": [
      "Lista de números múltiplos de 3:  [0, 3, 6, 9, 12, 15, 18, 21, 24, 27]\n",
      "La suma de los dígitos es:  135\n"
     ]
    }
   ],
   "source": [
    "lis= []\n",
    "\n",
    "for i in range(0,30,3):\n",
    "    lis.append(i)\n",
    "    \n",
    "print (\"Lista de números múltiplos de 3: \",lis)\n",
    "\n",
    "i=0\n",
    "sd=0\n",
    "while i < len(lis):\n",
    "    sd = sd + lis[i]\n",
    "    i+=1\n",
    "    \n",
    "print(\"La suma de los dígitos es: \", sd)    "
   ]
  },
  {
   "cell_type": "markdown",
   "metadata": {},
   "source": [
    "## Ejercicio 4\n",
    "- Con una función de if else, revisar si un número es par o es impar.\n",
    "- Con una función de if else, revisar si un número es primo o no."
   ]
  },
  {
   "cell_type": "code",
   "execution_count": 4,
   "metadata": {},
   "outputs": [
    {
     "name": "stdout",
     "output_type": "stream",
     "text": [
      "Introduce un número: 7\n",
      "7 es un número impar\n",
      "Introduce un número: 3\n",
      "3 es un número primo\n"
     ]
    }
   ],
   "source": [
    "a = int(input(\"Introduce un número: \"))\n",
    "\n",
    "if  a%2 == 0: \n",
    "    print (a, \"es un número par\")\n",
    "else:\n",
    "    print (a,\"es un número impar\")\n",
    "    \n",
    "b = int(input(\"Introduce un número: \")) \n",
    "j=0\n",
    "if b>1:\n",
    "    for i in range(2,b):\n",
    "        c= b%i\n",
    "        if c==0:\n",
    "            j+=1  \n",
    "    if j==0:\n",
    "        print(b,\"es un número primo\")\n",
    "    else:\n",
    "        print(b, \"no es un número primo\")\n",
    "    \n",
    "else:\n",
    "    print(\"El número ingresado no es primo.\")"
   ]
  },
  {
   "cell_type": "markdown",
   "metadata": {},
   "source": [
    "## Ejercicio 5\n",
    "Utilizando diferentes clases en python, crea una calculadora con los operadores básicos de suma, resta, multiplicación, división, y exponente."
   ]
  },
  {
   "cell_type": "code",
   "execution_count": 5,
   "metadata": {},
   "outputs": [
    {
     "name": "stdout",
     "output_type": "stream",
     "text": [
      "Escoja una operación: \n",
      " 1.Suma \n",
      " 2.Resta \n",
      " 3.Multiplicación \n",
      " 4.División \n",
      " 5.Exponente\n",
      "Operación seleccionada: 3\n",
      "Introduce el primer número: 4\n",
      "Introduce el segundo número: 10\n",
      "Multiplicación --> 40.0\n"
     ]
    }
   ],
   "source": [
    "print(\"Escoja una operación: \\n 1.Suma \\n 2.Resta \\n 3.Multiplicación \\n 4.División \\n 5.Exponente\")\n",
    "global a, b, c\n",
    "c = int(input(\"Operación seleccionada: \"))\n",
    "a = float(input(\"Introduce el primer número: \"))\n",
    "b = float(input(\"Introduce el segundo número: \"))\n",
    "\n",
    "def Suma(a,b):\n",
    "    S=a+b\n",
    "    return S\n",
    "\n",
    "def Resta(a,b):\n",
    "    R=a-b\n",
    "    return R\n",
    "\n",
    "def Multiplicacion(a,b):\n",
    "    M=a*b\n",
    "    return M\n",
    "\n",
    "def Division(a,b):\n",
    "    if b==0:\n",
    "        print(\"No se puede dividir entre cero\")\n",
    "    else:\n",
    "        D=a/b\n",
    "        return D\n",
    "\n",
    "def Exponente(a,b):\n",
    "    E=a**b\n",
    "    return E\n",
    "\n",
    "if c==1:\n",
    "    print (\"Suma -->\", Suma(a,b))\n",
    "elif c==2:\n",
    "    print(\"Resta -->\", Resta(a,b))\n",
    "elif c==3:\n",
    "    print(\"Multiplicación -->\", Multiplicacion(a,b))\n",
    "elif c==4:\n",
    "    print(\"División -->\", Division(a,b))\n",
    "elif c==5:\n",
    "    print(\"Exponente -->\", Exponente(a,b))"
   ]
  },
  {
   "cell_type": "markdown",
   "metadata": {},
   "source": [
    "## Ejercicios con estructuras básicas de Python"
   ]
  },
  {
   "cell_type": "markdown",
   "metadata": {},
   "source": [
    "#### TUPLAS\n",
    "### - Crear una variable flotante, integer, boleana y compleja e imprimir el tipo de variable que es."
   ]
  },
  {
   "cell_type": "code",
   "execution_count": 6,
   "metadata": {},
   "outputs": [
    {
     "data": {
      "text/plain": [
       "float"
      ]
     },
     "execution_count": 6,
     "metadata": {},
     "output_type": "execute_result"
    }
   ],
   "source": [
    "#creando a la variable flotante\n",
    "vflot= 0.4 \n",
    "type(vflot)\n"
   ]
  },
  {
   "cell_type": "code",
   "execution_count": 7,
   "metadata": {},
   "outputs": [
    {
     "data": {
      "text/plain": [
       "int"
      ]
     },
     "execution_count": 7,
     "metadata": {},
     "output_type": "execute_result"
    }
   ],
   "source": [
    "#creando a la variable entera\n",
    "vent= 5\n",
    "type(vent)"
   ]
  },
  {
   "cell_type": "code",
   "execution_count": 8,
   "metadata": {},
   "outputs": [
    {
     "data": {
      "text/plain": [
       "bool"
      ]
     },
     "execution_count": 8,
     "metadata": {},
     "output_type": "execute_result"
    }
   ],
   "source": [
    "#creando a la variable boleana\n",
    "vbol=True\n",
    "type(vbol)"
   ]
  },
  {
   "cell_type": "code",
   "execution_count": 9,
   "metadata": {},
   "outputs": [
    {
     "data": {
      "text/plain": [
       "complex"
      ]
     },
     "execution_count": 9,
     "metadata": {},
     "output_type": "execute_result"
    }
   ],
   "source": [
    "#creando a la variable compleja\n",
    "vcom= 2j\n",
    "type(vcom)"
   ]
  },
  {
   "cell_type": "markdown",
   "metadata": {},
   "source": [
    "### - Crear una tupla con valores enteros imprimir el primer y ultimo valor."
   ]
  },
  {
   "cell_type": "code",
   "execution_count": 10,
   "metadata": {},
   "outputs": [
    {
     "name": "stdout",
     "output_type": "stream",
     "text": [
      "Tupla creadad:  (1, 4, 7, 10, 3)\n",
      "El primer valor es:  1\n",
      "El último valor es:  3\n"
     ]
    }
   ],
   "source": [
    "tvalores_enteros= (1, 4, 7, 10, 3)\n",
    "print(\"Tupla creadad: \", tvalores_enteros)\n",
    "print(\"El primer valor es: \", tvalores_enteros[0])\n",
    "print(\"El último valor es: \", tvalores_enteros[4])"
   ]
  },
  {
   "cell_type": "markdown",
   "metadata": {},
   "source": [
    "### - Añadir 3 valores de string a la tupla."
   ]
  },
  {
   "cell_type": "code",
   "execution_count": 11,
   "metadata": {},
   "outputs": [
    {
     "name": "stdout",
     "output_type": "stream",
     "text": [
      "Tupla con 3 valores string:  (1, 4, 7, 10, 3, 'Keila', 'Rubí', 'Puente')\n"
     ]
    }
   ],
   "source": [
    "tvalores_constring= tvalores_enteros + (\"Keila\", \"Rubí\", \"Puente\",)\n",
    "print(\"Tupla con 3 valores string: \",tvalores_constring)"
   ]
  },
  {
   "cell_type": "markdown",
   "metadata": {},
   "source": [
    "### - Verificar si una variable existe dentro de la tupla."
   ]
  },
  {
   "cell_type": "code",
   "execution_count": 12,
   "metadata": {},
   "outputs": [
    {
     "name": "stdout",
     "output_type": "stream",
     "text": [
      "True\n",
      "False\n"
     ]
    }
   ],
   "source": [
    "print(\"Keila\" in tvalores_constring)\n",
    "print(\"Hola\" in tvalores_constring)"
   ]
  },
  {
   "cell_type": "markdown",
   "metadata": {},
   "source": [
    "### Listas\n",
    "### - Crear una lista con 40 elementos aleatorios enteros."
   ]
  },
  {
   "cell_type": "code",
   "execution_count": 13,
   "metadata": {},
   "outputs": [
    {
     "name": "stdout",
     "output_type": "stream",
     "text": [
      "Lista con 40 elementos:  [4, 52, 94, 86, 4, 32, 95, 61, 29, 14, 29, 26, 19, 11, 57, 63, 3, 59, 88, 99, 79, 69, 13, 66, 55, 4, 2, 25, 1, 14, 56, 67, 33, 85, 33, 6, 98, 78, 84, 58]\n"
     ]
    }
   ],
   "source": [
    "import random as rm\n",
    "la= []\n",
    "\n",
    "for i in range(0,40): \n",
    "    la.append(rm.randint(1,100)) #randint es con intervalo cerrado\n",
    "    \n",
    "print (\"Lista con 40 elementos: \",la)"
   ]
  },
  {
   "cell_type": "markdown",
   "metadata": {},
   "source": [
    "### - Con una funcion (def) crear dos listas nuevas a partir de la lista creada por numeros aleatorios, en la cual en una esten los elementos pares, y en la otra los elementos impares."
   ]
  },
  {
   "cell_type": "code",
   "execution_count": 14,
   "metadata": {},
   "outputs": [
    {
     "name": "stdout",
     "output_type": "stream",
     "text": [
      "Lista de pares:  [4, 52, 94, 86, 4, 32, 14, 26, 88, 66, 4, 2, 14, 56, 6, 98, 78, 84, 58]\n",
      "Lista de impares:  [95, 61, 29, 29, 19, 11, 57, 63, 3, 59, 99, 79, 69, 13, 55, 25, 1, 67, 33, 85, 33]\n"
     ]
    }
   ],
   "source": [
    "\n",
    "def Separar(la):\n",
    "    par = []\n",
    "    impar=[]\n",
    "    for i in la:\n",
    "        if i%2==0:\n",
    "            par.append(i)\n",
    "        else:\n",
    "            impar.append(i)\n",
    "    return par, impar\n",
    "\n",
    "par,impar = Separar(la)\n",
    "print(\"Lista de pares: \", par)\n",
    "print(\"Lista de impares: \", impar)"
   ]
  },
  {
   "cell_type": "markdown",
   "metadata": {},
   "source": [
    "### - Crear dos variables con la longitud de ambas listas nuevas e imprimir las variables."
   ]
  },
  {
   "cell_type": "code",
   "execution_count": 15,
   "metadata": {},
   "outputs": [
    {
     "name": "stdout",
     "output_type": "stream",
     "text": [
      "Variable de longitud lista de pares:  19\n",
      "Variable de longitud lista de impares:  21\n"
     ]
    }
   ],
   "source": [
    "lonv= len(par)\n",
    "lonv2= len(impar)\n",
    "print(\"Variable de longitud lista de pares: \",lonv)\n",
    "print(\"Variable de longitud lista de impares: \",lonv2)\n"
   ]
  },
  {
   "cell_type": "markdown",
   "metadata": {},
   "source": [
    "### - Ordenar los elementos de la lista par de mayor a menor, y los de la lista impar de menor a mayor."
   ]
  },
  {
   "cell_type": "code",
   "execution_count": 16,
   "metadata": {},
   "outputs": [
    {
     "name": "stdout",
     "output_type": "stream",
     "text": [
      "Lista par de mayor a menor:  [98, 94, 88, 86, 84, 78, 66, 58, 56, 52, 32, 26, 14, 14, 6, 4, 4, 4, 2]\n",
      "Lista impar de menor a mayor:  [1, 3, 11, 13, 19, 25, 29, 29, 33, 33, 55, 57, 59, 61, 63, 67, 69, 79, 85, 95, 99]\n"
     ]
    }
   ],
   "source": [
    "par.sort(reverse = True)\n",
    "print(\"Lista par de mayor a menor: \", par) \n",
    "impar.sort()\n",
    "print(\"Lista impar de menor a mayor: \", impar) "
   ]
  },
  {
   "cell_type": "markdown",
   "metadata": {},
   "source": [
    "### -Utilizar al menos cuatro de las funciones de listas en python en la lista original de 40 elementos."
   ]
  },
  {
   "cell_type": "code",
   "execution_count": 18,
   "metadata": {},
   "outputs": [
    {
     "name": "stdout",
     "output_type": "stream",
     "text": [
      "Lista de elementos:  [4, 52, 94, 86, 4, 32, 95, 61, 29, 14, 29, 26, 19, 11, 57, 63, 3, 59, 88, 99, 79, 69, 13, 66, 55, 4, 2, 25, 1, 14, 56, 67, 33, 85, 33, 6, 98, 78]\n",
      "Lista con elemento agregado:  [1, 4, 52, 94, 86, 4, 32, 95, 61, 29, 14, 29, 26, 19, 11, 57, 63, 3, 59, 88, 99, 79, 69, 13, 66, 55, 4, 2, 25, 1, 14, 56, 67, 33, 85, 33, 6, 98, 78]\n",
      "Lista sin el elemento:  [4, 52, 94, 86, 4, 32, 95, 61, 29, 14, 29, 26, 19, 11, 57, 63, 3, 59, 88, 99, 79, 69, 13, 66, 55, 4, 2, 25, 1, 14, 56, 67, 33, 85, 33, 6, 98, 78]\n",
      "Lista con elementos agregados:  [4, 52, 94, 86, 4, 32, 95, 61, 29, 14, 29, 26, 19, 11, 57, 63, 3, 59, 88, 99, 79, 69, 13, 66, 55, 4, 2, 25, 1, 14, 56, 67, 33, 85, 33, 6, 98, 78, 4, 4, 4]\n",
      "Lista vacía:  []\n"
     ]
    }
   ],
   "source": [
    "# USANDO LA FUNCIÓN POP()\n",
    "la.pop()\n",
    "print(\"Lista de elementos: \", la)\n",
    "\n",
    "#USANDO LA FUNCIÓN INSERT()\n",
    "la.insert(0,1) #posición, lo que quiero que tenga\n",
    "print(\"Lista con elemento agregado: \", la)\n",
    "\n",
    "#USANDO LA FUNCIÓN REMOVE()\n",
    "la.remove(1)\n",
    "print(\"Lista sin el elemento: \", la)\n",
    "\n",
    "#USANDO LA FUNCIÓN EXTEND()\n",
    "la.extend([4,4,4])\n",
    "print(\"Lista con elementos agregados: \", la)\n",
    "\n",
    "#USANDO LA FUNCIÓN CLEAR()\n",
    "la.clear()\n",
    "print(\"Lista vacía: \", la)"
   ]
  },
  {
   "cell_type": "markdown",
   "metadata": {},
   "source": [
    "## Diccionarios\n",
    "### -Crear un diccionario de 6 personas que conozcas con su primer nombre y su edad."
   ]
  },
  {
   "cell_type": "code",
   "execution_count": 19,
   "metadata": {},
   "outputs": [
    {
     "name": "stdout",
     "output_type": "stream",
     "text": [
      "Diccionario de personas:  {'Carlos': 22, 'Alejandro': 21, 'Helena': 21, 'Cesar': 20, 'Juan': 20, 'Jorge': 23}\n"
     ]
    }
   ],
   "source": [
    "diccionario = {'Carlos': 22,'Alejandro': 21,'Helena': 21,'Cesar': 20,'Juan': 20,'Jorge': 23}\n",
    "print(\"Diccionario de personas: \", diccionario)"
   ]
  },
  {
   "cell_type": "markdown",
   "metadata": {},
   "source": [
    "### Crear una lista con los valores de la edad y reacomodar la lista de menor a mayor valor."
   ]
  },
  {
   "cell_type": "code",
   "execution_count": 20,
   "metadata": {},
   "outputs": [
    {
     "name": "stdout",
     "output_type": "stream",
     "text": [
      "Lista de edades: [20, 20, 21, 21, 22, 23]\n"
     ]
    }
   ],
   "source": [
    "lista_edades = list(diccionario.values())\n",
    "lista_edades.sort()\n",
    "print(\"Lista de edades:\",lista_edades)"
   ]
  },
  {
   "cell_type": "markdown",
   "metadata": {},
   "source": [
    "### - Usando el diccionario y un loop, imprimir solo los nombres."
   ]
  },
  {
   "cell_type": "code",
   "execution_count": 21,
   "metadata": {},
   "outputs": [
    {
     "name": "stdout",
     "output_type": "stream",
     "text": [
      "Lista de nombres: \n",
      "Carlos\n",
      "Alejandro\n",
      "Helena\n",
      "Cesar\n",
      "Juan\n",
      "Jorge\n"
     ]
    }
   ],
   "source": [
    "lista_nombre = list(diccionario.keys())\n",
    "print(\"Lista de nombres: \")\n",
    "for i in range(len(diccionario)):\n",
    "    print(lista_nombre[i])"
   ]
  },
  {
   "cell_type": "markdown",
   "metadata": {},
   "source": [
    "### - Añadir dos personas nuevas a tu diccionario, incluyendo edad."
   ]
  },
  {
   "cell_type": "code",
   "execution_count": 22,
   "metadata": {},
   "outputs": [
    {
     "name": "stdout",
     "output_type": "stream",
     "text": [
      "Diccionario con personas agregadas:  {'Carlos': 22, 'Alejandro': 21, 'Helena': 21, 'Cesar': 20, 'Juan': 20, 'Jorge': 23, 'Eiram': 22, 'Samuel': 19}\n"
     ]
    }
   ],
   "source": [
    "diccionario[\"Eiram\"] = 22\n",
    "diccionario[\"Samuel\"] = 19\n",
    "print(\"Diccionario con personas agregadas: \",diccionario)"
   ]
  },
  {
   "cell_type": "markdown",
   "metadata": {},
   "source": [
    "## Sets\n",
    "### - Crea un set con 100 numeros aleatorios enteros del 1 al 25."
   ]
  },
  {
   "cell_type": "code",
   "execution_count": 27,
   "metadata": {
    "scrolled": true
   },
   "outputs": [
    {
     "name": "stdout",
     "output_type": "stream",
     "text": [
      "El set de números es:  {1, 2, 3, 4, 5, 6, 7, 8, 9, 10, 11, 12, 13, 14, 15, 16, 17, 18, 19, 20, 21, 22, 23, 24, 25}\n"
     ]
    }
   ],
   "source": [
    "lista_numeros = set()\n",
    "for i in range(1,101):\n",
    "    lista_numeros.add(rm.randint(1,25))\n",
    "    \n",
    "print(\"El set de números es: \", lista_numeros)\n",
    "\n",
    "#NOTA: ya que el set imprime números no repetidos, entonces no es posible hacer un set de 100 números con solo el rango del 1-25\n",
    "#por lo tanto el set es de 25 números aleatorios."
   ]
  },
  {
   "cell_type": "markdown",
   "metadata": {},
   "source": [
    "### - Comprueba la longitud de tu set."
   ]
  },
  {
   "cell_type": "code",
   "execution_count": 29,
   "metadata": {},
   "outputs": [
    {
     "name": "stdout",
     "output_type": "stream",
     "text": [
      "La longitud del set es:  25\n"
     ]
    }
   ],
   "source": [
    "print(\"La longitud del set es: \",len(lista_numeros))"
   ]
  },
  {
   "cell_type": "markdown",
   "metadata": {},
   "source": [
    "### - Crea una lista de 5 numeros aleatorios del 1 al 10 y comprueba si cada valor aparece en el set inicial."
   ]
  },
  {
   "cell_type": "code",
   "execution_count": 31,
   "metadata": {},
   "outputs": [
    {
     "name": "stdout",
     "output_type": "stream",
     "text": [
      "Lista de 5 números:  [8, 5, 10, 2, 6]\n",
      "8 sí está en el set inicial\n",
      "5 sí está en el set inicial\n",
      "10 sí está en el set inicial\n",
      "2 sí está en el set inicial\n",
      "6 sí está en el set inicial\n"
     ]
    }
   ],
   "source": [
    "numeros_aleatorios = []\n",
    "for i in range(0,5):\n",
    "    numeros_aleatorios.append(rm.randint(1,10))\n",
    "    \n",
    "print(\"Lista de 5 números: \",numeros_aleatorios)\n",
    "\n",
    "for i in numeros_aleatorios:\n",
    "    if(i in lista_numeros):\n",
    "        print(i,\"sí está en el set inicial\")\n",
    "    else:\n",
    "        print(i,\"no está en el set inicial\")"
   ]
  },
  {
   "cell_type": "code",
   "execution_count": null,
   "metadata": {},
   "outputs": [],
   "source": []
  },
  {
   "cell_type": "code",
   "execution_count": null,
   "metadata": {},
   "outputs": [],
   "source": []
  }
 ],
 "metadata": {
  "kernelspec": {
   "display_name": "Python 3",
   "language": "python",
   "name": "python3"
  },
  "language_info": {
   "codemirror_mode": {
    "name": "ipython",
    "version": 3
   },
   "file_extension": ".py",
   "mimetype": "text/x-python",
   "name": "python",
   "nbconvert_exporter": "python",
   "pygments_lexer": "ipython3",
   "version": "3.8.3"
  }
 },
 "nbformat": 4,
 "nbformat_minor": 4
}
